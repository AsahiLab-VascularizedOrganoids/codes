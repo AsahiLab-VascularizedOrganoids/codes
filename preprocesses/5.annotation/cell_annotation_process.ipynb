{
 "cells": [
  {
   "cell_type": "code",
   "execution_count": 1,
   "metadata": {
    "vscode": {
     "languageId": "r"
    }
   },
   "outputs": [],
   "source": [
    "pacman::p_load(\n",
    "    Seurat, SeuratDisk, tidyverse\n",
    ")"
   ]
  },
  {
   "attachments": {},
   "cell_type": "markdown",
   "metadata": {},
   "source": [
    "## Requirement\n",
    "Cell annotation file: Indicates cell type information which placed in `meta/annotations/{sample_name}.tsv`"
   ]
  },
  {
   "cell_type": "code",
   "execution_count": 24,
   "metadata": {
    "vscode": {
     "languageId": "r"
    }
   },
   "outputs": [],
   "source": [
    "list.files(\n",
    "    \"../../meta/annotations/\",\n",
    "    pattern = \".tsv\"\n",
    ") %>%\n",
    "as.list() %>%\n",
    "lapply(\n",
    "    function(fpath) {\n",
    "        fname <- str_split(fpath, \"\\\\.\", simplify = TRUE)[[1]]\n",
    "        seurat <-\n",
    "            LoadH5Seurat(\n",
    "                \"../../resources/\",\n",
    "                fname,\n",
    "                \".h5seurat\"\n",
    "            ) %>%\n",
    "            SingleCellPipeline::assign_celltype(\n",
    "                annotation = read_tsv(\n",
    "                    paste0(\n",
    "                        \"../../meta/annotations/\",\n",
    "                        fname,\n",
    "                        \".tsv\"\n",
    "                    )\n",
    "                ),\n",
    "                cell.meta = read_tsv(\n",
    "                    \"../../meta/cell_metadata.tsv\",\n",
    "                    show_col_types = FALSE\n",
    "                ),\n",
    "                sample.meta = read_tsv(\n",
    "                    \"../../meta/sample_metadata.tsv\",\n",
    "                    show_col_types = FALSE\n",
    "                )\n",
    "            )\n",
    "        seurat@meta.data %>%\n",
    "            tibble::rownames_to_column(\"cell\") %>%\n",
    "            select(\n",
    "                cell, celltype, color.celltype, group, marker, color.sample\n",
    "            ) %>%\n",
    "            mutate(\n",
    "                sample = fname\n",
    "            ) %>%\n",
    "            return()\n",
    "    }\n",
    ") %>%\n",
    "bind_rows() %>%\n",
    "write_tsv(\n",
    "    \"../../resources/cellinfo.ci\"\n",
    ")"
   ]
  }
 ],
 "metadata": {
  "kernelspec": {
   "display_name": "R",
   "language": "R",
   "name": "ir"
  },
  "language_info": {
   "codemirror_mode": "r",
   "file_extension": ".r",
   "mimetype": "text/x-r-source",
   "name": "R",
   "pygments_lexer": "r",
   "version": "4.2.1"
  },
  "orig_nbformat": 4
 },
 "nbformat": 4,
 "nbformat_minor": 2
}
